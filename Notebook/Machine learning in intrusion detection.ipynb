{
 "cells": [
  {
   "cell_type": "markdown",
   "id": "a221bd65",
   "metadata": {},
   "source": [
    "# Libraries"
   ]
  },
  {
   "cell_type": "code",
   "execution_count": null,
   "id": "5d323128",
   "metadata": {},
   "outputs": [],
   "source": [
    "#Classification Methods\n",
    "from sklearn.ensemble import ExtraTreesClassifier\n",
    "from sklearn.ensemble import RandomForestClassifier\n",
    "from sklearn.ensemble import GradientBoostingClassifier\n",
    "from sklearn import svm\n",
    "from sklearn.tree import DecisionTreeClassifier\n",
    "from sklearn.neighbors import KNeighborsClassifier \n",
    "from sklearn.discriminant_analysis import QuadraticDiscriminantAnalysis\n",
    "from sklearn.naive_bayes import GaussianNB\n",
    "from sklearn.ensemble import AdaBoostClassifier\n",
    "from sklearn.linear_model import LogisticRegression\n",
    "from sklearn.discriminant_analysis import LinearDiscriminantAnalysis\n",
    "from sklearn.neural_network import MLPClassifier\n",
    "from xgboost import XGBClassifier\n",
    "\n",
    "#Metrics\n",
    "from sklearn.metrics import precision_score\n",
    "from sklearn.metrics import recall_score\n",
    "from sklearn.metrics import f1_score\n",
    "from yellowbrick.classifier import ClassificationReport \n",
    "from sklearn.metrics import classification_report\n",
    "from sklearn.metrics import confusion_matrix\n",
    "from sklearn.metrics import accuracy_score\n",
    "from sklearn.metrics import cohen_kappa_score\n",
    "from sklearn.metrics import mean_squared_error as MSE\n",
    "from sklearn.metrics import roc_auc_score\n",
    "\n",
    "#Tools\n",
    "from sklearn.feature_extraction.text import TfidfVectorizer\n",
    "from sklearn.model_selection import train_test_split\n",
    "from imblearn.over_sampling import SMOTE\n",
    "from sklearn.preprocessing import LabelEncoder\n",
    "import pandas as pd\n",
    "import numpy as np\n",
    "import seaborn as sns\n",
    "import matplotlib.pyplot as plt\n",
    "from sklearn import model_selection\n",
    "from scipy.sparse import csr_matrix \n",
    "import string \n",
    "import time as tm\n",
    "import spacy \n",
    "import os\n",
    "\n",
    "import warnings\n",
    "warnings.filterwarnings('ignore')"
   ]
  },
  {
   "cell_type": "markdown",
   "id": "9a7e1df9",
   "metadata": {},
   "source": [
    "# Functions"
   ]
  },
  {
   "cell_type": "code",
   "execution_count": null,
   "id": "521e558f",
   "metadata": {},
   "outputs": [],
   "source": [
    "def classifier_metrics(X_train,X_test,y_train,y_test,CV=True):    \n",
    "    def metrics(model):\n",
    "        print(\"\\nHold-Out in process...\")\n",
    "        start_time = tm.time()\n",
    "        model.fit(X_train, y_train) \n",
    "        TIME = tm.time() - start_time \n",
    "        print(\"Time, Training: {0:.4f} [seconds]\".format(TIME))\n",
    "        start_time = tm.time()\n",
    "        y_pred = model.predict(X_test)\n",
    "        TIME = tm.time() - start_time \n",
    "        print(\"Time, Prediction: {0:.4f} [seconds]\".format(TIME))\n",
    "        \n",
    "        accuracy_s  = accuracy_score(y_test,y_pred) \n",
    "        print('accuracy_score: {0:.4f}'.format(accuracy_s))\n",
    "        f1_s        = f1_score(y_test,y_pred,average='weighted')\n",
    "        print('f1_score: {0:.4f}'.format(f1_s))\n",
    "        recall_s    = recall_score(y_test,y_pred,average='weighted')\n",
    "        print('recall_score: {0:.4f}'.format(recall_s))\n",
    "        precision_s = precision_score(y_test,y_pred,average='weighted')\n",
    "        print('precision_score: {0:.4f}'.format(precision_s))\n",
    "        \n",
    "        if type(list(np.unique(np.array(y_train)))[0]).__name__ == 'str': #If the classes are categorical with string names\n",
    "            le           = LabelEncoder() \n",
    "            le.fit(list(np.unique(np.array(y_train)))) \n",
    "            y_test_coded = le.transform(y_test) \n",
    "            y_pred_coded = le.transform(y_pred) \n",
    "            mse_s        = MSE(y_test_coded,y_pred_coded)\n",
    "            print('MSE: {0:.4f}'.format(mse_s))\n",
    "        else:\n",
    "            mse_s        = MSE(y_test,y_pred)\n",
    "            print('MSE: {0:.4f}'.format(mse_s))\n",
    "        \n",
    "        if len(list(np.unique(np.array(y_train)))) > 2: #For multiclass classification, more than 2 classes\n",
    "            y_pred_proba = model.predict_proba(X_test)[:]\n",
    "            roc_s        = roc_auc_score(y_test, y_pred_proba, multi_class='ovo', average='weighted')\n",
    "            print('ROC_AUC: {0:.4f}'.format(roc_s))            \n",
    "        else:\n",
    "            y_pred_proba = model.predict_proba(X_test)[:,1]\n",
    "            roc_s        = roc_auc_score(y_test, y_pred_proba, multi_class='ovo', average='weighted')\n",
    "            print('ROC_AUC: {0:.4f}'.format(roc_s))\n",
    "        \n",
    "        ck_s         = cohen_kappa_score(y_test,y_pred)\n",
    "        print('CK: {0:.4f}'.format(ck_s))\n",
    "        \n",
    "        if CV == True:\n",
    "            print('\\nCross-Validation in process...')\n",
    "            start_time = tm.time() \n",
    "            kfold = model_selection.KFold(n_splits=10)\n",
    "            y_CV = np.concatenate((y_train,y_test))\n",
    "            if \"GaussianNB\" in str(name) or \"LinearDiscriminantAnalysis\" in str(name) or \"QuadraticDiscriminantAnalysis\" in str(name):\n",
    "                X_CV = np.concatenate((X_train,X_test))\n",
    "                cv_results = np.array(model_selection.cross_val_score(model, X_CV, y_CV, cv=kfold, scoring='accuracy', n_jobs=-3))\n",
    "            else:\n",
    "                X_CV = np.concatenate((X_train.toarray(),X_test.toarray()))\n",
    "                X_CV = csr_matrix(X_CV)\n",
    "                cv_results = np.array(model_selection.cross_val_score(model, X_CV, y_CV, cv=kfold, scoring='accuracy', n_jobs=-3))\n",
    "\n",
    "            cv_results = cv_results[np.logical_not(np.isnan(cv_results))] \n",
    "            TIME = tm.time() - start_time \n",
    "            print(\"Time, CV: {0:.4f} [seconds]\".format(TIME))\n",
    "            print('CV: {0:.4f} {1:.4f}'.format(cv_results.mean(),cv_results.std()))\n",
    "\n",
    "    for name in classifiers:\n",
    "        print (\"---------------------------------------------------------------------------------\\n\") \n",
    "        print(str(name))\n",
    "        if \"GaussianNB\" in str(name) or \"LinearDiscriminantAnalysis\" in str(name) or \"QuadraticDiscriminantAnalysis\" in str(name):\n",
    "            X_train=csr_matrix(X_train) \n",
    "            X_test =csr_matrix(X_test) \n",
    "            X_train=X_train.toarray() \n",
    "            X_test=X_test.toarray() \n",
    "        else:\n",
    "            X_train=csr_matrix(X_train)\n",
    "            X_test=csr_matrix(X_test)\n",
    "            \n",
    "        metrics(name)\n",
    "        print()\n"
   ]
  },
  {
   "cell_type": "code",
   "execution_count": null,
   "id": "f08b8e81",
   "metadata": {},
   "outputs": [],
   "source": [
    "# Classification report\n",
    "def CR_viz(x,y):\n",
    "    ax = plt.figure(figsize=(x,y)) \n",
    "    visualizer = ClassificationReport(model_selected, classes=classes, support=True,  \n",
    "                                      cmap='Blues', title=\"Classification Report - \"+model_name)\n",
    "    visualizer.fit(X_train, y_train)   \n",
    "    visualizer.score(X_test, y_test)      \n",
    "    visualizer.poof()\n",
    "    ax.show()\n",
    "    ax.savefig(path_figures+\"/\"+model_name+\"_CR\"+\".pdf\", bbox_inches = \"tight\") \n",
    "\n",
    "# Confusion matrix\n",
    "def CM_viz(x,y):\n",
    "    model_selected.fit(X_train, y_train) \n",
    "    y_pred = model_selected.predict(X_test) \n",
    "    conf = confusion_matrix(y_test, y_pred) \n",
    "    plt.figure(figsize=(x,y)) \n",
    "    annot_kws={'fontsize':20, 'verticalalignment':'center' }\n",
    "    ax = sns.heatmap(conf, annot=True, cmap='Blues',fmt = 'd',annot_kws= annot_kws, xticklabels=np.unique(classes), yticklabels=np.unique(classes)) \n",
    "    ax.set(title=\"Confusion Matrix\", xlabel=\"Predicted Values\", ylabel=\"Actual Values\")\n",
    "    sns.set(font_scale=2)\n",
    "    plt.title(\"Confusion Matrix - \"+model_name, fontsize = 25)\n",
    "    plt.xlabel(\"Predicted Values\", fontsize = 25)\n",
    "    plt.ylabel(\"Actual Values\", fontsize = 25)\n",
    "    plt.savefig(path_figures+\"/\"+model_name+\"_CM\"+\".pdf\", bbox_inches = \"tight\") "
   ]
  },
  {
   "cell_type": "code",
   "execution_count": null,
   "id": "546f4043",
   "metadata": {},
   "outputs": [],
   "source": [
    "path_figures = \"../images\"\n",
    "if not os.path.exists(path_figures):\n",
    "    os.makedirs(path_figures)\n"
   ]
  },
  {
   "cell_type": "markdown",
   "id": "7701b8df",
   "metadata": {},
   "source": [
    "# Loading data"
   ]
  },
  {
   "cell_type": "code",
   "execution_count": null,
   "id": "9f256884",
   "metadata": {},
   "outputs": [],
   "source": [
    "path_folder_data = \"../Datasets\""
   ]
  },
  {
   "cell_type": "code",
   "execution_count": null,
   "id": "fe6b4268",
   "metadata": {},
   "outputs": [],
   "source": [
    "path = path_folder_data+'/1NID_final_Set1.csv'\n",
    "df_set1=pd.read_csv(path)\n",
    "df_set1"
   ]
  },
  {
   "cell_type": "code",
   "execution_count": null,
   "id": "819273ff",
   "metadata": {},
   "outputs": [],
   "source": [
    "path = path_folder_data+'/2NID_final_Set2.csv'\n",
    "df_set2=pd.read_csv(path)\n",
    "df_set2"
   ]
  },
  {
   "cell_type": "code",
   "execution_count": null,
   "id": "7cc73247",
   "metadata": {},
   "outputs": [],
   "source": [
    "path = path_folder_data+'/3NID_final_Set1_2.csv'\n",
    "df_set1_2=pd.read_csv(path)\n",
    "df_set1_2"
   ]
  },
  {
   "cell_type": "markdown",
   "id": "d8ddb7d3",
   "metadata": {},
   "source": [
    "# Scenario 1"
   ]
  },
  {
   "cell_type": "code",
   "execution_count": null,
   "id": "efaa933f",
   "metadata": {},
   "outputs": [],
   "source": [
    "# Eliminamos los labels\n",
    "features = df_set1.copy()\n",
    "features = features.drop(['label', 'tipo_ataque'], axis=1) "
   ]
  },
  {
   "cell_type": "code",
   "execution_count": null,
   "id": "f34400d4",
   "metadata": {},
   "outputs": [],
   "source": [
    "#Extraemos los labels\n",
    "labels = df_set1.copy()\n",
    "labels_binary = labels['label'].values "
   ]
  },
  {
   "cell_type": "code",
   "execution_count": null,
   "id": "97318b89",
   "metadata": {},
   "outputs": [],
   "source": [
    "labels=labels_binary\n",
    "X_train,X_test,y_train,y_test=train_test_split(features, labels,\n",
    "                                               test_size=0.2,random_state=21, stratify=labels)\n",
    "print(X_train.shape,X_test.shape,y_train.shape,y_test.shape) \n",
    "print(np.unique(y_train, return_counts=True))\n",
    "print(np.unique(y_test, return_counts=True)) "
   ]
  },
  {
   "cell_type": "code",
   "execution_count": null,
   "id": "62a80532",
   "metadata": {
    "scrolled": true
   },
   "outputs": [],
   "source": [
    "#ML Models\n",
    "classifiers=[\n",
    "    ExtraTreesClassifier(n_jobs=-3), \n",
    "    RandomForestClassifier(n_jobs=-3),\n",
    "    LogisticRegression(solver='liblinear',n_jobs=-3),\n",
    "    KNeighborsClassifier(n_jobs=-3),\n",
    "    XGBClassifier(eval_metric='mlogloss',n_jobs=-3),\n",
    "    DecisionTreeClassifier(),\n",
    "    LinearDiscriminantAnalysis(),\n",
    "    GaussianNB(),\n",
    "    svm.SVC(probability=True),\n",
    "    GradientBoostingClassifier(),\n",
    "    QuadraticDiscriminantAnalysis(),\n",
    "    AdaBoostClassifier(),\n",
    "    MLPClassifier()\n",
    "    ] \n",
    "\n",
    "#Deploy aggregate metrics \n",
    "classifier_metrics(X_train,X_test,y_train,y_test,CV=True) "
   ]
  },
  {
   "cell_type": "code",
   "execution_count": null,
   "id": "cb926de7",
   "metadata": {
    "scrolled": true
   },
   "outputs": [],
   "source": [
    "model_name = \"Scenario 1 - Extra Trees\"\n",
    "model_selected = ExtraTreesClassifier(n_jobs=-3)\n",
    "classes = np.unique([\"Normal\",\"Intrusion\"])\n",
    "\n",
    "visualization =[CR_viz(15,15), CM_viz(15,15)] \n"
   ]
  },
  {
   "cell_type": "markdown",
   "id": "09a11c19",
   "metadata": {},
   "source": [
    "# Scenario 2"
   ]
  },
  {
   "cell_type": "code",
   "execution_count": null,
   "id": "1ad7f604",
   "metadata": {},
   "outputs": [],
   "source": [
    "# Eliminamos los labels\n",
    "features = df_set2.copy()\n",
    "features = features.drop(['label', 'tipo_ataque'], axis=1) "
   ]
  },
  {
   "cell_type": "code",
   "execution_count": null,
   "id": "6ad0eb20",
   "metadata": {},
   "outputs": [],
   "source": [
    "#Extraemos los labels\n",
    "labels = df_set2.copy()\n",
    "labels_binary = labels['label'].values "
   ]
  },
  {
   "cell_type": "code",
   "execution_count": null,
   "id": "f99deb30",
   "metadata": {},
   "outputs": [],
   "source": [
    "labels=labels_binary\n",
    "X_train,X_test,y_train,y_test=train_test_split(features, labels,\n",
    "                                               test_size=0.2,random_state=21, stratify=labels)\n",
    "print(X_train.shape,X_test.shape,y_train.shape,y_test.shape) \n",
    "print(np.unique(y_train, return_counts=True))\n",
    "print(np.unique(y_test, return_counts=True)) "
   ]
  },
  {
   "cell_type": "code",
   "execution_count": null,
   "id": "30628f42",
   "metadata": {},
   "outputs": [],
   "source": [
    "#ML Models\n",
    "classifiers=[\n",
    "    ExtraTreesClassifier(n_jobs=-3), \n",
    "    RandomForestClassifier(n_jobs=-3),\n",
    "    LogisticRegression(solver='liblinear',n_jobs=-3),\n",
    "    KNeighborsClassifier(n_jobs=-3),\n",
    "    XGBClassifier(eval_metric='mlogloss',n_jobs=-3),\n",
    "    DecisionTreeClassifier(),\n",
    "    LinearDiscriminantAnalysis(),\n",
    "    GaussianNB(),\n",
    "    svm.SVC(probability=True),\n",
    "    GradientBoostingClassifier(),\n",
    "    QuadraticDiscriminantAnalysis(),\n",
    "    AdaBoostClassifier(),\n",
    "    MLPClassifier()\n",
    "    ] \n",
    "\n",
    "#Deploy aggregate metrics \n",
    "classifier_metrics(X_train,X_test,y_train,y_test,CV=True) "
   ]
  },
  {
   "cell_type": "code",
   "execution_count": null,
   "id": "f3340a69",
   "metadata": {},
   "outputs": [],
   "source": [
    "model_name = \"Scenario 2 - Extra Trees\"\n",
    "model_selected = ExtraTreesClassifier(n_jobs=-3)\n",
    "classes = np.unique([\"Normal\",\"Intrusion\"])\n",
    "\n",
    "visualization =[CR_viz(15,15), CM_viz(15,15)] \n"
   ]
  },
  {
   "cell_type": "markdown",
   "id": "2c66e5b1",
   "metadata": {},
   "source": [
    "# Scenario 3"
   ]
  },
  {
   "cell_type": "code",
   "execution_count": null,
   "id": "baef077a",
   "metadata": {},
   "outputs": [],
   "source": [
    "# Eliminamos los labels\n",
    "features = df_set1_2.copy()\n",
    "features = features.drop(['label', 'tipo_ataque'], axis=1) "
   ]
  },
  {
   "cell_type": "code",
   "execution_count": null,
   "id": "7eef965b",
   "metadata": {},
   "outputs": [],
   "source": [
    "#Extraemos los labels\n",
    "labels = df_set1_2.copy()\n",
    "labels_binary = labels['label'].values "
   ]
  },
  {
   "cell_type": "code",
   "execution_count": null,
   "id": "2b61d2aa",
   "metadata": {},
   "outputs": [],
   "source": [
    "labels=labels_binary\n",
    "X_train,X_test,y_train,y_test=train_test_split(features, labels,\n",
    "                                               test_size=0.2,random_state=21, stratify=labels)\n",
    "print(X_train.shape,X_test.shape,y_train.shape,y_test.shape) \n",
    "print(np.unique(y_train, return_counts=True))\n",
    "print(np.unique(y_test, return_counts=True)) "
   ]
  },
  {
   "cell_type": "code",
   "execution_count": null,
   "id": "c8dd69f1",
   "metadata": {},
   "outputs": [],
   "source": [
    "#ML Models\n",
    "classifiers=[\n",
    "    ExtraTreesClassifier(n_jobs=-3), \n",
    "    RandomForestClassifier(n_jobs=-3),\n",
    "    LogisticRegression(solver='liblinear',n_jobs=-3),\n",
    "    KNeighborsClassifier(n_jobs=-3),\n",
    "    XGBClassifier(eval_metric='mlogloss',n_jobs=-3),\n",
    "    DecisionTreeClassifier(),\n",
    "    LinearDiscriminantAnalysis(),\n",
    "    GaussianNB(),\n",
    "    svm.SVC(probability=True),\n",
    "    GradientBoostingClassifier(),\n",
    "    QuadraticDiscriminantAnalysis(),\n",
    "    AdaBoostClassifier(),\n",
    "    MLPClassifier()\n",
    "    ] \n",
    "\n",
    "#Deploy aggregate metrics \n",
    "classifier_metrics(X_train,X_test,y_train,y_test,CV=True) "
   ]
  },
  {
   "cell_type": "code",
   "execution_count": null,
   "id": "d8cd5a20",
   "metadata": {},
   "outputs": [],
   "source": [
    "model_name = \"Scenario 3 - Extra Trees\"\n",
    "model_selected = ExtraTreesClassifier(n_jobs=-3)\n",
    "classes = np.unique(y_test)\n",
    "\n",
    "visualization =[CR_viz(15,15), CM_viz(15,15)] \n"
   ]
  },
  {
   "cell_type": "markdown",
   "id": "ae1f28a2",
   "metadata": {},
   "source": [
    "# Scenario 4"
   ]
  },
  {
   "cell_type": "code",
   "execution_count": null,
   "id": "edc591a9",
   "metadata": {},
   "outputs": [],
   "source": [
    "#SET 1\n",
    "\n",
    "# Eliminamos los labels\n",
    "features = df_set1.copy()\n",
    "features = features.drop(['label', 'tipo_ataque'], axis=1) \n",
    "\n",
    "#Extraemos los labels\n",
    "labels = df_set1.copy()\n",
    "labels_binary = labels['label'].values "
   ]
  },
  {
   "cell_type": "code",
   "execution_count": null,
   "id": "81a31b22",
   "metadata": {},
   "outputs": [],
   "source": [
    "#SET 2\n",
    "\n",
    "# Eliminamos los labels\n",
    "features_ = df_set2.copy()\n",
    "features_ = features_.drop(['label', 'tipo_ataque'], axis=1) \n",
    "\n",
    "#Extraemos los labels\n",
    "labels_ = df_set1.copy()\n",
    "labels_binary_ = labels_['label'].values "
   ]
  },
  {
   "cell_type": "code",
   "execution_count": null,
   "id": "3941b5f3",
   "metadata": {},
   "outputs": [],
   "source": [
    "labels=labels_binary\n",
    "X_train,X_test,y_train,y_test=train_test_split(features, labels,\n",
    "                                               test_size=0.2,random_state=21, stratify=labels)\n",
    "print(X_train.shape,X_test.shape,y_train.shape,y_test.shape) \n",
    "print(np.unique(y_train, return_counts=True))\n",
    "print(np.unique(y_test, return_counts=True)) "
   ]
  },
  {
   "cell_type": "code",
   "execution_count": null,
   "id": "e8bff3d0",
   "metadata": {
    "scrolled": true
   },
   "outputs": [],
   "source": [
    "X_test = features_\n",
    "y_test = labels_binary_\n",
    "\n",
    "classifiers=[\n",
    "    ExtraTreesClassifier(random_state=179, n_jobs=-1), \n",
    "    RandomForestClassifier(random_state=179,n_jobs=-1),\n",
    "    LogisticRegression(random_state=179,solver='liblinear',n_jobs=-3),\n",
    "    KNeighborsClassifier(n_jobs=-3),\n",
    "    XGBClassifier(random_state=179,eval_metric='mlogloss',n_jobs=-3),\n",
    "    DecisionTreeClassifier(random_state=179),\n",
    "    LinearDiscriminantAnalysis(),\n",
    "    GaussianNB(),\n",
    "    svm.SVC(random_state=179,probability=True),\n",
    "    GradientBoostingClassifier(random_state=179),\n",
    "    QuadraticDiscriminantAnalysis(),\n",
    "    AdaBoostClassifier(random_state=179),\n",
    "    MLPClassifier(random_state=179)\n",
    "    ] \n",
    "\n",
    "#Deploy aggregate metrics \n",
    "classifier_metrics(X_train,X_test,y_train,y_test,CV=False) "
   ]
  },
  {
   "cell_type": "code",
   "execution_count": null,
   "id": "48ad14aa",
   "metadata": {
    "scrolled": true
   },
   "outputs": [],
   "source": [
    "model_name = \"Scenario 4 - Extra Trees\"\n",
    "model_selected = ExtraTreesClassifier(random_state=179, n_jobs=-1)\n",
    "classes = np.unique([\"Normal\",\"Intrusion\"])\n",
    "\n",
    "visualization =[CR_viz(10,10), CM_viz(10,10)] \n"
   ]
  },
  {
   "cell_type": "markdown",
   "id": "71dd0cbe",
   "metadata": {},
   "source": [
    "# Scenario 5"
   ]
  },
  {
   "cell_type": "code",
   "execution_count": null,
   "id": "5932f29b",
   "metadata": {},
   "outputs": [],
   "source": [
    "#SET 1\n",
    "\n",
    "# Eliminamos los labels\n",
    "features_ = df_set1.copy()\n",
    "features_ = features_.drop(['label', 'tipo_ataque'], axis=1) \n",
    "\n",
    "#Extraemos los labels\n",
    "labels_ = df_set1.copy()\n",
    "labels_binary_ = labels_['label'].values "
   ]
  },
  {
   "cell_type": "code",
   "execution_count": null,
   "id": "20e42b74",
   "metadata": {},
   "outputs": [],
   "source": [
    "#SET 2\n",
    "\n",
    "# Eliminamos los labels\n",
    "features = df_set2.copy()\n",
    "features = features.drop(['label', 'tipo_ataque'], axis=1) \n",
    "\n",
    "#Extraemos los labels\n",
    "labels = df_set1.copy()\n",
    "labels_binary = labels['label'].values "
   ]
  },
  {
   "cell_type": "code",
   "execution_count": null,
   "id": "c7c2f471",
   "metadata": {},
   "outputs": [],
   "source": [
    "labels=labels_binary\n",
    "X_train,X_test,y_train,y_test=train_test_split(features, labels,\n",
    "                                               test_size=0.2,random_state=21, stratify=labels)\n",
    "print(X_train.shape,X_test.shape,y_train.shape,y_test.shape) \n",
    "print(np.unique(y_train, return_counts=True))\n",
    "print(np.unique(y_test, return_counts=True)) "
   ]
  },
  {
   "cell_type": "code",
   "execution_count": null,
   "id": "5ee7fee1",
   "metadata": {},
   "outputs": [],
   "source": [
    "X_test = features_\n",
    "y_test = labels_binary_\n",
    "\n",
    "classifiers=[\n",
    "    ExtraTreesClassifier(random_state=179, n_jobs=-1), \n",
    "    RandomForestClassifier(random_state=179,n_jobs=-1),\n",
    "    LogisticRegression(random_state=179,solver='liblinear',n_jobs=-3),\n",
    "    KNeighborsClassifier(n_jobs=-3),\n",
    "    XGBClassifier(random_state=179,eval_metric='mlogloss',n_jobs=-3),\n",
    "    DecisionTreeClassifier(random_state=179),\n",
    "    LinearDiscriminantAnalysis(),\n",
    "    GaussianNB(),\n",
    "    svm.SVC(random_state=179,probability=True),\n",
    "    GradientBoostingClassifier(random_state=179),\n",
    "    QuadraticDiscriminantAnalysis(),\n",
    "    AdaBoostClassifier(random_state=179),\n",
    "    MLPClassifier(random_state=179)\n",
    "    ] \n",
    "\n",
    "#Deploy aggregate metrics \n",
    "classifier_metrics(X_train,X_test,y_train,y_test,CV=False) "
   ]
  },
  {
   "cell_type": "code",
   "execution_count": null,
   "id": "99fa2255",
   "metadata": {},
   "outputs": [],
   "source": [
    "model_name = \"Scenario 5 - Extra Trees\"\n",
    "model_selected = ExtraTreesClassifier(random_state=179, n_jobs=-1)\n",
    "classes = np.unique([\"Normal\",\"Intrusion\"])\n",
    "\n",
    "visualization =[CR_viz(10,10), CM_viz(10,10)] \n"
   ]
  },
  {
   "cell_type": "markdown",
   "id": "f4125574",
   "metadata": {},
   "source": [
    "# Scenario 6"
   ]
  },
  {
   "cell_type": "code",
   "execution_count": null,
   "id": "08deb7c8",
   "metadata": {},
   "outputs": [],
   "source": [
    "df1 = df_set1.copy() \n",
    "df1.drop(index=df1.index[:200000], axis=0, inplace=True) #Only 50.000 samples for Normal"
   ]
  },
  {
   "cell_type": "code",
   "execution_count": null,
   "id": "66a4d8ba",
   "metadata": {},
   "outputs": [],
   "source": [
    "# Eliminamos los labels\n",
    "features = df1.copy()\n",
    "features = features.drop(['label', 'tipo_ataque'], axis=1) "
   ]
  },
  {
   "cell_type": "code",
   "execution_count": null,
   "id": "f955caaa",
   "metadata": {},
   "outputs": [],
   "source": [
    "#Extraemos los labels\n",
    "labels = df1.copy()\n",
    "labels_multiclass = labels['tipo_ataque'].values"
   ]
  },
  {
   "cell_type": "code",
   "execution_count": null,
   "id": "fe662e96",
   "metadata": {},
   "outputs": [],
   "source": [
    "labels=labels_multiclass\n",
    "X_train,X_test,y_train,y_test=train_test_split(features, labels,\n",
    "                                               test_size=0.2,random_state=21, stratify=labels)\n",
    "print(X_train.shape,X_test.shape,y_train.shape,y_test.shape) \n",
    "print(np.unique(y_train, return_counts=True))\n",
    "print(np.unique(y_test, return_counts=True)) "
   ]
  },
  {
   "cell_type": "code",
   "execution_count": null,
   "id": "0b0deb2a",
   "metadata": {},
   "outputs": [],
   "source": [
    "#ML Models\n",
    "classifiers=[\n",
    "    ExtraTreesClassifier(n_jobs=-3), \n",
    "    RandomForestClassifier(n_jobs=-3),\n",
    "    LogisticRegression(solver='liblinear',n_jobs=-3),\n",
    "    KNeighborsClassifier(n_jobs=-3),\n",
    "    XGBClassifier(eval_metric='mlogloss',n_jobs=-3),\n",
    "    DecisionTreeClassifier(),\n",
    "    LinearDiscriminantAnalysis(),\n",
    "    GaussianNB(),\n",
    "    svm.SVC(probability=True),\n",
    "    GradientBoostingClassifier(),\n",
    "    QuadraticDiscriminantAnalysis(),\n",
    "    AdaBoostClassifier(),\n",
    "    MLPClassifier()\n",
    "    ] \n",
    "\n",
    "#Deploy aggregate metrics \n",
    "classifier_metrics(X_train,X_test,y_train,y_test,CV=True) "
   ]
  },
  {
   "cell_type": "code",
   "execution_count": null,
   "id": "af2df15a",
   "metadata": {},
   "outputs": [],
   "source": [
    "model_name = \"Scenario 6 - Extra Trees\"\n",
    "model_selected = ExtraTreesClassifier(n_jobs=-3)\n",
    "classes = np.unique(y_test)\n",
    "\n",
    "visualization =[CR_viz(15,15), CM_viz(15,15)] \n"
   ]
  },
  {
   "cell_type": "markdown",
   "id": "72fc3917",
   "metadata": {},
   "source": [
    "# Scenario 7"
   ]
  },
  {
   "cell_type": "code",
   "execution_count": null,
   "id": "5a475165",
   "metadata": {},
   "outputs": [],
   "source": [
    "df2 = df_set2.copy() \n",
    "df2.drop(index=df2.index[:200000], axis=0, inplace=True) #Only 50.000 samples for Normal"
   ]
  },
  {
   "cell_type": "code",
   "execution_count": null,
   "id": "c5011e07",
   "metadata": {},
   "outputs": [],
   "source": [
    "# Eliminamos los labels\n",
    "features = df2.copy()\n",
    "features = features.drop(['label', 'tipo_ataque'], axis=1) "
   ]
  },
  {
   "cell_type": "code",
   "execution_count": null,
   "id": "a33c5126",
   "metadata": {},
   "outputs": [],
   "source": [
    "#Extraemos los labels\n",
    "labels = df2.copy()\n",
    "labels_multiclass = labels['tipo_ataque'].values"
   ]
  },
  {
   "cell_type": "code",
   "execution_count": null,
   "id": "87bee66e",
   "metadata": {},
   "outputs": [],
   "source": [
    "labels=labels_multiclass\n",
    "X_train,X_test,y_train,y_test=train_test_split(features, labels,\n",
    "                                               test_size=0.2,random_state=21, stratify=labels)\n",
    "print(X_train.shape,X_test.shape,y_train.shape,y_test.shape) \n",
    "print(np.unique(y_train, return_counts=True))\n",
    "print(np.unique(y_test, return_counts=True)) "
   ]
  },
  {
   "cell_type": "code",
   "execution_count": null,
   "id": "27a6196b",
   "metadata": {},
   "outputs": [],
   "source": [
    "#ML Models\n",
    "classifiers=[\n",
    "    ExtraTreesClassifier(n_jobs=-3), \n",
    "    RandomForestClassifier(n_jobs=-3),\n",
    "    LogisticRegression(solver='liblinear',n_jobs=-3),\n",
    "    KNeighborsClassifier(n_jobs=-3),\n",
    "    XGBClassifier(eval_metric='mlogloss',n_jobs=-3),\n",
    "    DecisionTreeClassifier(),\n",
    "    LinearDiscriminantAnalysis(),\n",
    "    GaussianNB(),\n",
    "    svm.SVC(probability=True),\n",
    "    GradientBoostingClassifier(),\n",
    "    QuadraticDiscriminantAnalysis(),\n",
    "    AdaBoostClassifier(),\n",
    "    MLPClassifier()\n",
    "    ] \n",
    "\n",
    "#Deploy aggregate metrics \n",
    "classifier_metrics(X_train,X_test,y_train,y_test,CV=True) "
   ]
  },
  {
   "cell_type": "code",
   "execution_count": null,
   "id": "26aee1a7",
   "metadata": {},
   "outputs": [],
   "source": [
    "model_name = \"Scenario 7 - Extra Trees\"\n",
    "model_selected = ExtraTreesClassifier(n_jobs=-3)\n",
    "classes = np.unique(y_test)\n",
    "\n",
    "visualization =[CR_viz(15,15), CM_viz(15,15)] \n"
   ]
  },
  {
   "cell_type": "markdown",
   "id": "bdac1800",
   "metadata": {},
   "source": [
    "# Scenario 8"
   ]
  },
  {
   "cell_type": "code",
   "execution_count": null,
   "id": "0b897f9d",
   "metadata": {},
   "outputs": [],
   "source": [
    "# Extraction of 50.000 samples of Normal class\n",
    "df_normal = df_set1_2.copy() \n",
    "df_normal.drop(index=df_normal.index[50000:], axis=0, inplace=True) "
   ]
  },
  {
   "cell_type": "code",
   "execution_count": null,
   "id": "bf9c2225",
   "metadata": {},
   "outputs": [],
   "source": [
    "# Extracting the intrusions, each one has 50.000 samples\n",
    "df_equal = df_set1_2.copy() \n",
    "df_equal.drop(df_equal[df_equal.tipo_ataque == \"normal\"].index, inplace=True)  "
   ]
  },
  {
   "cell_type": "code",
   "execution_count": null,
   "id": "88b70517",
   "metadata": {},
   "outputs": [],
   "source": [
    "# Uniendo normal con los ataques, ahora todas las clases de a 50.000\n",
    "df1 = pd.concat([df_normal, df_equal]).reset_index(drop=True)  # Concat all to a single df "
   ]
  },
  {
   "cell_type": "code",
   "execution_count": null,
   "id": "e8cf32c8",
   "metadata": {},
   "outputs": [],
   "source": [
    "# Eliminamos los labels\n",
    "features = df1.copy()\n",
    "features = features.drop(['label', 'tipo_ataque'], axis=1) "
   ]
  },
  {
   "cell_type": "code",
   "execution_count": null,
   "id": "5ccc8559",
   "metadata": {},
   "outputs": [],
   "source": [
    "#Extraemos los labels\n",
    "labels = df1.copy()\n",
    "labels_multiclass = labels['tipo_ataque'].values"
   ]
  },
  {
   "cell_type": "code",
   "execution_count": null,
   "id": "10200582",
   "metadata": {},
   "outputs": [],
   "source": [
    "labels=labels_multiclass\n",
    "X_train,X_test,y_train,y_test=train_test_split(features, labels,\n",
    "                                               test_size=0.2,random_state=21, stratify=labels)\n",
    "print(X_train.shape,X_test.shape,y_train.shape,y_test.shape) \n",
    "print(np.unique(y_train, return_counts=True))\n",
    "print(np.unique(y_test, return_counts=True)) "
   ]
  },
  {
   "cell_type": "code",
   "execution_count": null,
   "id": "b30f50a0",
   "metadata": {},
   "outputs": [],
   "source": [
    "#ML Models\n",
    "classifiers=[\n",
    "    ExtraTreesClassifier(n_jobs=-3), \n",
    "    RandomForestClassifier(n_jobs=-3),\n",
    "    LogisticRegression(solver='liblinear',n_jobs=-3),\n",
    "    KNeighborsClassifier(n_jobs=-3),\n",
    "    XGBClassifier(eval_metric='mlogloss',n_jobs=-3),\n",
    "    DecisionTreeClassifier(),\n",
    "    LinearDiscriminantAnalysis(),\n",
    "    GaussianNB(),\n",
    "    svm.SVC(probability=True),\n",
    "    GradientBoostingClassifier(),\n",
    "    QuadraticDiscriminantAnalysis(),\n",
    "    AdaBoostClassifier(),\n",
    "    MLPClassifier()\n",
    "    ] \n",
    "\n",
    "#Deploy aggregate metrics \n",
    "classifier_metrics(X_train,X_test,y_train,y_test,CV=True) "
   ]
  },
  {
   "cell_type": "code",
   "execution_count": null,
   "id": "16c9f928",
   "metadata": {},
   "outputs": [],
   "source": [
    "model_name = \"Scenario 8 - Extra Trees\"\n",
    "model_selected = ExtraTreesClassifier(n_jobs=-3)\n",
    "classes = np.unique(y_test)\n",
    "\n",
    "visualization =[CR_viz(15,15), CM_viz(15,15)] \n"
   ]
  },
  {
   "cell_type": "code",
   "execution_count": null,
   "id": "4fb43659",
   "metadata": {},
   "outputs": [],
   "source": []
  }
 ],
 "metadata": {
  "kernelspec": {
   "display_name": "Python 3 (ipykernel)",
   "language": "python",
   "name": "python3"
  },
  "language_info": {
   "codemirror_mode": {
    "name": "ipython",
    "version": 3
   },
   "file_extension": ".py",
   "mimetype": "text/x-python",
   "name": "python",
   "nbconvert_exporter": "python",
   "pygments_lexer": "ipython3",
   "version": "3.8.12"
  }
 },
 "nbformat": 4,
 "nbformat_minor": 5
}
